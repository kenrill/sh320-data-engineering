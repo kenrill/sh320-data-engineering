{
 "cells": [
  {
   "cell_type": "markdown",
   "metadata": {},
   "source": [
    "## <strong> 7. NumPy 고급 기능 </strong>\n",
    "+ 브로드캐스팅 (broadcasting)\n",
    "+ 마스킹 (masking)\n",
    "+ 팬시 인덱싱 (fancy indexing)"
   ]
  },
  {
   "cell_type": "code",
   "execution_count": 1,
   "metadata": {},
   "outputs": [],
   "source": [
    "import numpy as np"
   ]
  },
  {
   "cell_type": "markdown",
   "metadata": {},
   "source": [
    "### <strong> 브로드캐스팅 연산 </strong>\n",
    "+ ```np.ones()```: 1로 이루어진 NumPy 배열 생성"
   ]
  },
  {
   "cell_type": "code",
   "execution_count": 2,
   "metadata": {},
   "outputs": [
    {
     "name": "stdout",
     "output_type": "stream",
     "text": [
      "[5 6 7]\n"
     ]
    }
   ],
   "source": [
    "# 1D + 스칼라\n",
    "a = np.array([0, 1, 2])\n",
    "print(a + 5)"
   ]
  },
  {
   "cell_type": "code",
   "execution_count": 6,
   "metadata": {},
   "outputs": [
    {
     "name": "stdout",
     "output_type": "stream",
     "text": [
      "[[1. 1. 1.]\n",
      " [1. 1. 1.]\n",
      " [1. 1. 1.]] \n",
      "\n",
      "[0 1 2] \n",
      "\n",
      "[[1. 2. 3.]\n",
      " [1. 2. 3.]\n",
      " [1. 2. 3.]]\n"
     ]
    }
   ],
   "source": [
    "# 1D + 2D 배열\n",
    "a = np.ones((3, 3))      # [+] 1로 이루어진 (3, 3)의 배열 생성\n",
    "print(a, '\\n')\n",
    "\n",
    "b = np.arange(3)         # [+] [0, 1, 2]로 이루어진 정수 배열 생성\n",
    "print(b, '\\n')\n",
    "\n",
    "print(a+b)"
   ]
  },
  {
   "cell_type": "code",
   "execution_count": 7,
   "metadata": {},
   "outputs": [
    {
     "name": "stdout",
     "output_type": "stream",
     "text": [
      "[[0]\n",
      " [1]\n",
      " [2]] \n",
      "\n",
      "[0 1 2] \n",
      "\n",
      "[[0 1 2]\n",
      " [1 2 3]\n",
      " [2 3 4]]\n"
     ]
    }
   ],
   "source": [
    "# 두 배열 모두 브로드캐스팅이 적용되는 경우\n",
    "a = np.arange(3)\n",
    "a = a[:, np.newaxis]   # [+] 차원 추가: (3,) -> (3, 1)\n",
    "print(a, '\\n')\n",
    "\n",
    "b = np.arange(3)\n",
    "print(b, '\\n')\n",
    "\n",
    "print(a + b)"
   ]
  },
  {
   "cell_type": "markdown",
   "metadata": {},
   "source": [
    "### <strong> 브로드캐스팅 규칙 </strong>"
   ]
  },
  {
   "cell_type": "code",
   "execution_count": 11,
   "metadata": {},
   "outputs": [
    {
     "data": {
      "text/plain": [
       "array([[1., 2., 3.],\n",
       "       [1., 2., 3.]])"
      ]
     },
     "execution_count": 11,
     "metadata": {},
     "output_type": "execute_result"
    }
   ],
   "source": [
    "# 예제: 1D + 2D\n",
    "a = np.ones((2, 3))\n",
    "b = np.arange(3)\n",
    "\n",
    "a+b"
   ]
  },
  {
   "cell_type": "code",
   "execution_count": 14,
   "metadata": {},
   "outputs": [
    {
     "data": {
      "text/plain": [
       "array([[0, 1, 2],\n",
       "       [1, 2, 3],\n",
       "       [2, 3, 4]])"
      ]
     },
     "execution_count": 14,
     "metadata": {},
     "output_type": "execute_result"
    }
   ],
   "source": [
    "# 예제: 두 배열 모두 브로드캐스팅이 적용되는 경우\n",
    "a = np.arange(3)\n",
    "a = a.reshape((3, 1))\n",
    "b = np.arange(3)\n",
    "\n",
    "a+b"
   ]
  },
  {
   "cell_type": "code",
   "execution_count": 20,
   "metadata": {},
   "outputs": [
    {
     "name": "stdout",
     "output_type": "stream",
     "text": [
      "[[1. 1.]\n",
      " [1. 1.]\n",
      " [1. 1.]] \n",
      "\n",
      "[0 1 2] \n",
      "\n"
     ]
    },
    {
     "ename": "ValueError",
     "evalue": "operands could not be broadcast together with shapes (3,2) (3,) ",
     "output_type": "error",
     "traceback": [
      "\u001b[1;31m---------------------------------------------------------------------------\u001b[0m",
      "\u001b[1;31mValueError\u001b[0m                                Traceback (most recent call last)",
      "Cell \u001b[1;32mIn[20], line 8\u001b[0m\n\u001b[0;32m      5\u001b[0m b \u001b[38;5;241m=\u001b[39m np\u001b[38;5;241m.\u001b[39marange(\u001b[38;5;241m3\u001b[39m)\n\u001b[0;32m      6\u001b[0m \u001b[38;5;28mprint\u001b[39m(b, \u001b[38;5;124m'\u001b[39m\u001b[38;5;130;01m\\n\u001b[39;00m\u001b[38;5;124m'\u001b[39m)\n\u001b[1;32m----> 8\u001b[0m \u001b[38;5;28mprint\u001b[39m(a \u001b[38;5;241m+\u001b[39m b)\n",
      "\u001b[1;31mValueError\u001b[0m: operands could not be broadcast together with shapes (3,2) (3,) "
     ]
    }
   ],
   "source": [
    "# 예제: 브로드캐스팅이 불가능한 경우\n",
    "a = np.ones((3, 2))\n",
    "print(a, '\\n')\n",
    "\n",
    "b = np.arange(3)\n",
    "print(b, '\\n')\n",
    "\n",
    "print(a + b)"
   ]
  },
  {
   "cell_type": "markdown",
   "metadata": {},
   "source": [
    "### <strong> 비교 연산, 마스크, 불리언 연산 </strong>"
   ]
  },
  {
   "cell_type": "code",
   "execution_count": 16,
   "metadata": {},
   "outputs": [
    {
     "name": "stdout",
     "output_type": "stream",
     "text": [
      "[ True  True False False False]\n",
      "[False False  True  True  True]\n",
      "[ True  True False  True  True]\n",
      "[False False  True False False]\n"
     ]
    }
   ],
   "source": [
    "# 배열의 비교 연산(마스킹)\n",
    "x = np.array([1, 2, 3, 4, 5])\n",
    "\n",
    "print(x < 3)\n",
    "print(x >= 3)\n",
    "print(x != 3)\n",
    "print(x == 3)"
   ]
  },
  {
   "cell_type": "markdown",
   "metadata": {},
   "source": [
    "#### **예제: 시애틀 2014년 강수량**"
   ]
  },
  {
   "cell_type": "code",
   "execution_count": 26,
   "metadata": {},
   "outputs": [
    {
     "data": {
      "text/plain": [
       "array([0.        , 0.16141732, 0.05905512, 0.        , 0.        ,\n",
       "       0.01181102, 0.48031496, 0.38188976, 0.22834646, 0.16929134])"
      ]
     },
     "execution_count": 26,
     "metadata": {},
     "output_type": "execute_result"
    }
   ],
   "source": [
    "import pandas as pd                              # 데이터 조작을 위한 라이브러리\n",
    "\n",
    "df = pd.read_csv('data/seattle2014.csv')\n",
    "prcp = df['PRCP'].values                         # PRCP: Precipitation (강수량)\n",
    "prcp = prcp / 254.0                              # 인치(inch) 단위로 변환\n",
    "prcp[:10]"
   ]
  },
  {
   "cell_type": "code",
   "execution_count": null,
   "metadata": {},
   "outputs": [
    {
     "data": {
      "text/plain": [
       "150"
      ]
     },
     "execution_count": 33,
     "metadata": {},
     "output_type": "execute_result"
    }
   ],
   "source": [
    "# [+] 비가 온 날은 며칠일까?\n",
    "np.sum([prcp>0])\n",
    "\n",
    "#prcp[prcp>0].size"
   ]
  },
  {
   "cell_type": "code",
   "execution_count": 34,
   "metadata": {},
   "outputs": [
    {
     "data": {
      "text/plain": [
       "0.410958904109589"
      ]
     },
     "execution_count": 34,
     "metadata": {},
     "output_type": "execute_result"
    }
   ],
   "source": [
    "# [+] 비가 온 날의 평균 강수량은?\n",
    "np.average([prcp>0])"
   ]
  },
  {
   "cell_type": "code",
   "execution_count": 35,
   "metadata": {},
   "outputs": [
    {
     "data": {
      "text/plain": [
       "39"
      ]
     },
     "execution_count": 35,
     "metadata": {},
     "output_type": "execute_result"
    }
   ],
   "source": [
    "# [+] 0.5인치 이상 비가 온 날은 며칠?\n",
    "np.sum([prcp>=0.5])"
   ]
  },
  {
   "cell_type": "markdown",
   "metadata": {},
   "source": [
    "#### **시각화 라이브러리 (seaborn) 설치**"
   ]
  },
  {
   "cell_type": "code",
   "execution_count": 36,
   "metadata": {},
   "outputs": [
    {
     "name": "stdout",
     "output_type": "stream",
     "text": [
      "Requirement already satisfied: seaborn in c:\\users\\srn\\anaconda3\\lib\\site-packages (0.12.2)\n",
      "Requirement already satisfied: numpy!=1.24.0,>=1.17 in c:\\users\\srn\\anaconda3\\lib\\site-packages (from seaborn) (1.24.3)\n",
      "Requirement already satisfied: pandas>=0.25 in c:\\users\\srn\\anaconda3\\lib\\site-packages (from seaborn) (1.5.3)\n",
      "Requirement already satisfied: matplotlib!=3.6.1,>=3.1 in c:\\users\\srn\\appdata\\roaming\\python\\python311\\site-packages (from seaborn) (3.8.4)\n",
      "Requirement already satisfied: contourpy>=1.0.1 in c:\\users\\srn\\anaconda3\\lib\\site-packages (from matplotlib!=3.6.1,>=3.1->seaborn) (1.0.5)\n",
      "Requirement already satisfied: cycler>=0.10 in c:\\users\\srn\\anaconda3\\lib\\site-packages (from matplotlib!=3.6.1,>=3.1->seaborn) (0.11.0)\n",
      "Requirement already satisfied: fonttools>=4.22.0 in c:\\users\\srn\\anaconda3\\lib\\site-packages (from matplotlib!=3.6.1,>=3.1->seaborn) (4.25.0)\n",
      "Requirement already satisfied: kiwisolver>=1.3.1 in c:\\users\\srn\\anaconda3\\lib\\site-packages (from matplotlib!=3.6.1,>=3.1->seaborn) (1.4.4)\n",
      "Requirement already satisfied: packaging>=20.0 in c:\\users\\srn\\anaconda3\\lib\\site-packages (from matplotlib!=3.6.1,>=3.1->seaborn) (23.0)\n",
      "Requirement already satisfied: pillow>=8 in c:\\users\\srn\\anaconda3\\lib\\site-packages (from matplotlib!=3.6.1,>=3.1->seaborn) (9.4.0)\n",
      "Requirement already satisfied: pyparsing>=2.3.1 in c:\\users\\srn\\anaconda3\\lib\\site-packages (from matplotlib!=3.6.1,>=3.1->seaborn) (3.0.9)\n",
      "Requirement already satisfied: python-dateutil>=2.7 in c:\\users\\srn\\anaconda3\\lib\\site-packages (from matplotlib!=3.6.1,>=3.1->seaborn) (2.8.2)\n",
      "Requirement already satisfied: pytz>=2020.1 in c:\\users\\srn\\anaconda3\\lib\\site-packages (from pandas>=0.25->seaborn) (2022.7)\n",
      "Requirement already satisfied: six>=1.5 in c:\\users\\srn\\anaconda3\\lib\\site-packages (from python-dateutil>=2.7->matplotlib!=3.6.1,>=3.1->seaborn) (1.16.0)\n"
     ]
    }
   ],
   "source": [
    "!pip install seaborn"
   ]
  },
  {
   "cell_type": "code",
   "execution_count": 37,
   "metadata": {},
   "outputs": [],
   "source": [
    "# 시각화 설정 코드\n",
    "%matplotlib inline\n",
    "import matplotlib.pyplot as plt\n",
    "import seaborn; seaborn.set() \n",
    "%config InlineBackend.figure_format = 'svg'"
   ]
  },
  {
   "cell_type": "code",
   "execution_count": 40,
   "metadata": {},
   "outputs": [
    {
     "data": {
      "image/svg+xml": [
       "<?xml version=\"1.0\" encoding=\"utf-8\" standalone=\"no\"?>\n",
       "<!DOCTYPE svg PUBLIC \"-//W3C//DTD SVG 1.1//EN\"\n",
       "  \"http://www.w3.org/Graphics/SVG/1.1/DTD/svg11.dtd\">\n",
       "<svg xmlns:xlink=\"http://www.w3.org/1999/xlink\" width=\"399.371094pt\" height=\"300.071844pt\" viewBox=\"0 0 399.371094 300.071844\" xmlns=\"http://www.w3.org/2000/svg\" version=\"1.1\">\n",
       " <metadata>\n",
       "  <rdf:RDF xmlns:dc=\"http://purl.org/dc/elements/1.1/\" xmlns:cc=\"http://creativecommons.org/ns#\" xmlns:rdf=\"http://www.w3.org/1999/02/22-rdf-syntax-ns#\">\n",
       "   <cc:Work>\n",
       "    <dc:type rdf:resource=\"http://purl.org/dc/dcmitype/StillImage\"/>\n",
       "    <dc:date>2025-04-02T15:20:07.631198</dc:date>\n",
       "    <dc:format>image/svg+xml</dc:format>\n",
       "    <dc:creator>\n",
       "     <cc:Agent>\n",
       "      <dc:title>Matplotlib v3.8.4, https://matplotlib.org/</dc:title>\n",
       "     </cc:Agent>\n",
       "    </dc:creator>\n",
       "   </cc:Work>\n",
       "  </rdf:RDF>\n",
       " </metadata>\n",
       " <defs>\n",
       "  <style type=\"text/css\">*{stroke-linejoin: round; stroke-linecap: butt}</style>\n",
       " </defs>\n",
       " <g id=\"figure_1\">\n",
       "  <g id=\"patch_1\">\n",
       "   <path d=\"M 0 300.071844 \n",
       "L 399.371094 300.071844 \n",
       "L 399.371094 0 \n",
       "L 0 0 \n",
       "z\n",
       "\" style=\"fill: #ffffff\"/>\n",
       "  </g>\n",
       "  <g id=\"axes_1\">\n",
       "   <g id=\"patch_2\">\n",
       "    <path d=\"M 35.051094 273.312 \n",
       "L 392.171094 273.312 \n",
       "L 392.171094 7.2 \n",
       "L 35.051094 7.2 \n",
       "z\n",
       "\" style=\"fill: #eaeaf2\"/>\n",
       "   </g>\n",
       "   <g id=\"matplotlib.axis_1\">\n",
       "    <g id=\"xtick_1\">\n",
       "     <g id=\"line2d_1\">\n",
       "      <path d=\"M 51.283821 273.312 \n",
       "L 51.283821 7.2 \n",
       "\" clip-path=\"url(#p2b38422735)\" style=\"fill: none; stroke: #ffffff; stroke-linecap: round\"/>\n",
       "     </g>\n",
       "     <g id=\"text_1\">\n",
       "      <!-- 0.00 -->\n",
       "      <g style=\"fill: #262626\" transform=\"translate(40.580305 290.685594) scale(0.11 -0.11)\">\n",
       "       <defs>\n",
       "        <path id=\"ArialMT-30\" d=\"M 266 2259 \n",
       "Q 266 3072 433 3567 \n",
       "Q 600 4063 929 4331 \n",
       "Q 1259 4600 1759 4600 \n",
       "Q 2128 4600 2406 4451 \n",
       "Q 2684 4303 2865 4023 \n",
       "Q 3047 3744 3150 3342 \n",
       "Q 3253 2941 3253 2259 \n",
       "Q 3253 1453 3087 958 \n",
       "Q 2922 463 2592 192 \n",
       "Q 2263 -78 1759 -78 \n",
       "Q 1097 -78 719 397 \n",
       "Q 266 969 266 2259 \n",
       "z\n",
       "M 844 2259 \n",
       "Q 844 1131 1108 757 \n",
       "Q 1372 384 1759 384 \n",
       "Q 2147 384 2411 759 \n",
       "Q 2675 1134 2675 2259 \n",
       "Q 2675 3391 2411 3762 \n",
       "Q 2147 4134 1753 4134 \n",
       "Q 1366 4134 1134 3806 \n",
       "Q 844 3388 844 2259 \n",
       "z\n",
       "\" transform=\"scale(0.015625)\"/>\n",
       "        <path id=\"ArialMT-2e\" d=\"M 581 0 \n",
       "L 581 641 \n",
       "L 1222 641 \n",
       "L 1222 0 \n",
       "L 581 0 \n",
       "z\n",
       "\" transform=\"scale(0.015625)\"/>\n",
       "       </defs>\n",
       "       <use xlink:href=\"#ArialMT-30\"/>\n",
       "       <use xlink:href=\"#ArialMT-2e\" x=\"55.615234\"/>\n",
       "       <use xlink:href=\"#ArialMT-30\" x=\"83.398438\"/>\n",
       "       <use xlink:href=\"#ArialMT-30\" x=\"139.013672\"/>\n",
       "      </g>\n",
       "     </g>\n",
       "    </g>\n",
       "    <g id=\"xtick_2\">\n",
       "     <g id=\"line2d_2\">\n",
       "      <path d=\"M 95.428497 273.312 \n",
       "L 95.428497 7.2 \n",
       "\" clip-path=\"url(#p2b38422735)\" style=\"fill: none; stroke: #ffffff; stroke-linecap: round\"/>\n",
       "     </g>\n",
       "     <g id=\"text_2\">\n",
       "      <!-- 0.25 -->\n",
       "      <g style=\"fill: #262626\" transform=\"translate(84.724981 290.685594) scale(0.11 -0.11)\">\n",
       "       <defs>\n",
       "        <path id=\"ArialMT-32\" d=\"M 3222 541 \n",
       "L 3222 0 \n",
       "L 194 0 \n",
       "Q 188 203 259 391 \n",
       "Q 375 700 629 1000 \n",
       "Q 884 1300 1366 1694 \n",
       "Q 2113 2306 2375 2664 \n",
       "Q 2638 3022 2638 3341 \n",
       "Q 2638 3675 2398 3904 \n",
       "Q 2159 4134 1775 4134 \n",
       "Q 1369 4134 1125 3890 \n",
       "Q 881 3647 878 3216 \n",
       "L 300 3275 \n",
       "Q 359 3922 746 4261 \n",
       "Q 1134 4600 1788 4600 \n",
       "Q 2447 4600 2831 4234 \n",
       "Q 3216 3869 3216 3328 \n",
       "Q 3216 3053 3103 2787 \n",
       "Q 2991 2522 2730 2228 \n",
       "Q 2469 1934 1863 1422 \n",
       "Q 1356 997 1212 845 \n",
       "Q 1069 694 975 541 \n",
       "L 3222 541 \n",
       "z\n",
       "\" transform=\"scale(0.015625)\"/>\n",
       "        <path id=\"ArialMT-35\" d=\"M 266 1200 \n",
       "L 856 1250 \n",
       "Q 922 819 1161 601 \n",
       "Q 1400 384 1738 384 \n",
       "Q 2144 384 2425 690 \n",
       "Q 2706 997 2706 1503 \n",
       "Q 2706 1984 2436 2262 \n",
       "Q 2166 2541 1728 2541 \n",
       "Q 1456 2541 1237 2417 \n",
       "Q 1019 2294 894 2097 \n",
       "L 366 2166 \n",
       "L 809 4519 \n",
       "L 3088 4519 \n",
       "L 3088 3981 \n",
       "L 1259 3981 \n",
       "L 1013 2750 \n",
       "Q 1425 3038 1878 3038 \n",
       "Q 2478 3038 2890 2622 \n",
       "Q 3303 2206 3303 1553 \n",
       "Q 3303 931 2941 478 \n",
       "Q 2500 -78 1738 -78 \n",
       "Q 1113 -78 717 272 \n",
       "Q 322 622 266 1200 \n",
       "z\n",
       "\" transform=\"scale(0.015625)\"/>\n",
       "       </defs>\n",
       "       <use xlink:href=\"#ArialMT-30\"/>\n",
       "       <use xlink:href=\"#ArialMT-2e\" x=\"55.615234\"/>\n",
       "       <use xlink:href=\"#ArialMT-32\" x=\"83.398438\"/>\n",
       "       <use xlink:href=\"#ArialMT-35\" x=\"139.013672\"/>\n",
       "      </g>\n",
       "     </g>\n",
       "    </g>\n",
       "    <g id=\"xtick_3\">\n",
       "     <g id=\"line2d_3\">\n",
       "      <path d=\"M 139.573173 273.312 \n",
       "L 139.573173 7.2 \n",
       "\" clip-path=\"url(#p2b38422735)\" style=\"fill: none; stroke: #ffffff; stroke-linecap: round\"/>\n",
       "     </g>\n",
       "     <g id=\"text_3\">\n",
       "      <!-- 0.50 -->\n",
       "      <g style=\"fill: #262626\" transform=\"translate(128.869657 290.685594) scale(0.11 -0.11)\">\n",
       "       <use xlink:href=\"#ArialMT-30\"/>\n",
       "       <use xlink:href=\"#ArialMT-2e\" x=\"55.615234\"/>\n",
       "       <use xlink:href=\"#ArialMT-35\" x=\"83.398438\"/>\n",
       "       <use xlink:href=\"#ArialMT-30\" x=\"139.013672\"/>\n",
       "      </g>\n",
       "     </g>\n",
       "    </g>\n",
       "    <g id=\"xtick_4\">\n",
       "     <g id=\"line2d_4\">\n",
       "      <path d=\"M 183.717849 273.312 \n",
       "L 183.717849 7.2 \n",
       "\" clip-path=\"url(#p2b38422735)\" style=\"fill: none; stroke: #ffffff; stroke-linecap: round\"/>\n",
       "     </g>\n",
       "     <g id=\"text_4\">\n",
       "      <!-- 0.75 -->\n",
       "      <g style=\"fill: #262626\" transform=\"translate(173.014333 290.685594) scale(0.11 -0.11)\">\n",
       "       <defs>\n",
       "        <path id=\"ArialMT-37\" d=\"M 303 3981 \n",
       "L 303 4522 \n",
       "L 3269 4522 \n",
       "L 3269 4084 \n",
       "Q 2831 3619 2401 2847 \n",
       "Q 1972 2075 1738 1259 \n",
       "Q 1569 684 1522 0 \n",
       "L 944 0 \n",
       "Q 953 541 1156 1306 \n",
       "Q 1359 2072 1739 2783 \n",
       "Q 2119 3494 2547 3981 \n",
       "L 303 3981 \n",
       "z\n",
       "\" transform=\"scale(0.015625)\"/>\n",
       "       </defs>\n",
       "       <use xlink:href=\"#ArialMT-30\"/>\n",
       "       <use xlink:href=\"#ArialMT-2e\" x=\"55.615234\"/>\n",
       "       <use xlink:href=\"#ArialMT-37\" x=\"83.398438\"/>\n",
       "       <use xlink:href=\"#ArialMT-35\" x=\"139.013672\"/>\n",
       "      </g>\n",
       "     </g>\n",
       "    </g>\n",
       "    <g id=\"xtick_5\">\n",
       "     <g id=\"line2d_5\">\n",
       "      <path d=\"M 227.862525 273.312 \n",
       "L 227.862525 7.2 \n",
       "\" clip-path=\"url(#p2b38422735)\" style=\"fill: none; stroke: #ffffff; stroke-linecap: round\"/>\n",
       "     </g>\n",
       "     <g id=\"text_5\">\n",
       "      <!-- 1.00 -->\n",
       "      <g style=\"fill: #262626\" transform=\"translate(217.159009 290.685594) scale(0.11 -0.11)\">\n",
       "       <defs>\n",
       "        <path id=\"ArialMT-31\" d=\"M 2384 0 \n",
       "L 1822 0 \n",
       "L 1822 3584 \n",
       "Q 1619 3391 1289 3197 \n",
       "Q 959 3003 697 2906 \n",
       "L 697 3450 \n",
       "Q 1169 3672 1522 3987 \n",
       "Q 1875 4303 2022 4600 \n",
       "L 2384 4600 \n",
       "L 2384 0 \n",
       "z\n",
       "\" transform=\"scale(0.015625)\"/>\n",
       "       </defs>\n",
       "       <use xlink:href=\"#ArialMT-31\"/>\n",
       "       <use xlink:href=\"#ArialMT-2e\" x=\"55.615234\"/>\n",
       "       <use xlink:href=\"#ArialMT-30\" x=\"83.398438\"/>\n",
       "       <use xlink:href=\"#ArialMT-30\" x=\"139.013672\"/>\n",
       "      </g>\n",
       "     </g>\n",
       "    </g>\n",
       "    <g id=\"xtick_6\">\n",
       "     <g id=\"line2d_6\">\n",
       "      <path d=\"M 272.0072 273.312 \n",
       "L 272.0072 7.2 \n",
       "\" clip-path=\"url(#p2b38422735)\" style=\"fill: none; stroke: #ffffff; stroke-linecap: round\"/>\n",
       "     </g>\n",
       "     <g id=\"text_6\">\n",
       "      <!-- 1.25 -->\n",
       "      <g style=\"fill: #262626\" transform=\"translate(261.303685 290.685594) scale(0.11 -0.11)\">\n",
       "       <use xlink:href=\"#ArialMT-31\"/>\n",
       "       <use xlink:href=\"#ArialMT-2e\" x=\"55.615234\"/>\n",
       "       <use xlink:href=\"#ArialMT-32\" x=\"83.398438\"/>\n",
       "       <use xlink:href=\"#ArialMT-35\" x=\"139.013672\"/>\n",
       "      </g>\n",
       "     </g>\n",
       "    </g>\n",
       "    <g id=\"xtick_7\">\n",
       "     <g id=\"line2d_7\">\n",
       "      <path d=\"M 316.151876 273.312 \n",
       "L 316.151876 7.2 \n",
       "\" clip-path=\"url(#p2b38422735)\" style=\"fill: none; stroke: #ffffff; stroke-linecap: round\"/>\n",
       "     </g>\n",
       "     <g id=\"text_7\">\n",
       "      <!-- 1.50 -->\n",
       "      <g style=\"fill: #262626\" transform=\"translate(305.448361 290.685594) scale(0.11 -0.11)\">\n",
       "       <use xlink:href=\"#ArialMT-31\"/>\n",
       "       <use xlink:href=\"#ArialMT-2e\" x=\"55.615234\"/>\n",
       "       <use xlink:href=\"#ArialMT-35\" x=\"83.398438\"/>\n",
       "       <use xlink:href=\"#ArialMT-30\" x=\"139.013672\"/>\n",
       "      </g>\n",
       "     </g>\n",
       "    </g>\n",
       "    <g id=\"xtick_8\">\n",
       "     <g id=\"line2d_8\">\n",
       "      <path d=\"M 360.296552 273.312 \n",
       "L 360.296552 7.2 \n",
       "\" clip-path=\"url(#p2b38422735)\" style=\"fill: none; stroke: #ffffff; stroke-linecap: round\"/>\n",
       "     </g>\n",
       "     <g id=\"text_8\">\n",
       "      <!-- 1.75 -->\n",
       "      <g style=\"fill: #262626\" transform=\"translate(349.593037 290.685594) scale(0.11 -0.11)\">\n",
       "       <use xlink:href=\"#ArialMT-31\"/>\n",
       "       <use xlink:href=\"#ArialMT-2e\" x=\"55.615234\"/>\n",
       "       <use xlink:href=\"#ArialMT-37\" x=\"83.398438\"/>\n",
       "       <use xlink:href=\"#ArialMT-35\" x=\"139.013672\"/>\n",
       "      </g>\n",
       "     </g>\n",
       "    </g>\n",
       "   </g>\n",
       "   <g id=\"matplotlib.axis_2\">\n",
       "    <g id=\"ytick_1\">\n",
       "     <g id=\"line2d_9\">\n",
       "      <path d=\"M 35.051094 273.312 \n",
       "L 392.171094 273.312 \n",
       "\" clip-path=\"url(#p2b38422735)\" style=\"fill: none; stroke: #ffffff; stroke-linecap: round\"/>\n",
       "     </g>\n",
       "     <g id=\"text_9\">\n",
       "      <!-- 0 -->\n",
       "      <g style=\"fill: #262626\" transform=\"translate(19.434063 277.248797) scale(0.11 -0.11)\">\n",
       "       <use xlink:href=\"#ArialMT-30\"/>\n",
       "      </g>\n",
       "     </g>\n",
       "    </g>\n",
       "    <g id=\"ytick_2\">\n",
       "     <g id=\"line2d_10\">\n",
       "      <path d=\"M 35.051094 221.589551 \n",
       "L 392.171094 221.589551 \n",
       "\" clip-path=\"url(#p2b38422735)\" style=\"fill: none; stroke: #ffffff; stroke-linecap: round\"/>\n",
       "     </g>\n",
       "     <g id=\"text_10\">\n",
       "      <!-- 50 -->\n",
       "      <g style=\"fill: #262626\" transform=\"translate(13.317031 225.526348) scale(0.11 -0.11)\">\n",
       "       <use xlink:href=\"#ArialMT-35\"/>\n",
       "       <use xlink:href=\"#ArialMT-30\" x=\"55.615234\"/>\n",
       "      </g>\n",
       "     </g>\n",
       "    </g>\n",
       "    <g id=\"ytick_3\">\n",
       "     <g id=\"line2d_11\">\n",
       "      <path d=\"M 35.051094 169.867102 \n",
       "L 392.171094 169.867102 \n",
       "\" clip-path=\"url(#p2b38422735)\" style=\"fill: none; stroke: #ffffff; stroke-linecap: round\"/>\n",
       "     </g>\n",
       "     <g id=\"text_11\">\n",
       "      <!-- 100 -->\n",
       "      <g style=\"fill: #262626\" transform=\"translate(7.2 173.803899) scale(0.11 -0.11)\">\n",
       "       <use xlink:href=\"#ArialMT-31\"/>\n",
       "       <use xlink:href=\"#ArialMT-30\" x=\"55.615234\"/>\n",
       "       <use xlink:href=\"#ArialMT-30\" x=\"111.230469\"/>\n",
       "      </g>\n",
       "     </g>\n",
       "    </g>\n",
       "    <g id=\"ytick_4\">\n",
       "     <g id=\"line2d_12\">\n",
       "      <path d=\"M 35.051094 118.144653 \n",
       "L 392.171094 118.144653 \n",
       "\" clip-path=\"url(#p2b38422735)\" style=\"fill: none; stroke: #ffffff; stroke-linecap: round\"/>\n",
       "     </g>\n",
       "     <g id=\"text_12\">\n",
       "      <!-- 150 -->\n",
       "      <g style=\"fill: #262626\" transform=\"translate(7.2 122.08145) scale(0.11 -0.11)\">\n",
       "       <use xlink:href=\"#ArialMT-31\"/>\n",
       "       <use xlink:href=\"#ArialMT-35\" x=\"55.615234\"/>\n",
       "       <use xlink:href=\"#ArialMT-30\" x=\"111.230469\"/>\n",
       "      </g>\n",
       "     </g>\n",
       "    </g>\n",
       "    <g id=\"ytick_5\">\n",
       "     <g id=\"line2d_13\">\n",
       "      <path d=\"M 35.051094 66.422204 \n",
       "L 392.171094 66.422204 \n",
       "\" clip-path=\"url(#p2b38422735)\" style=\"fill: none; stroke: #ffffff; stroke-linecap: round\"/>\n",
       "     </g>\n",
       "     <g id=\"text_13\">\n",
       "      <!-- 200 -->\n",
       "      <g style=\"fill: #262626\" transform=\"translate(7.2 70.359001) scale(0.11 -0.11)\">\n",
       "       <use xlink:href=\"#ArialMT-32\"/>\n",
       "       <use xlink:href=\"#ArialMT-30\" x=\"55.615234\"/>\n",
       "       <use xlink:href=\"#ArialMT-30\" x=\"111.230469\"/>\n",
       "      </g>\n",
       "     </g>\n",
       "    </g>\n",
       "    <g id=\"ytick_6\">\n",
       "     <g id=\"line2d_14\">\n",
       "      <path d=\"M 35.051094 14.699755 \n",
       "L 392.171094 14.699755 \n",
       "\" clip-path=\"url(#p2b38422735)\" style=\"fill: none; stroke: #ffffff; stroke-linecap: round\"/>\n",
       "     </g>\n",
       "     <g id=\"text_14\">\n",
       "      <!-- 250 -->\n",
       "      <g style=\"fill: #262626\" transform=\"translate(7.2 18.636552) scale(0.11 -0.11)\">\n",
       "       <use xlink:href=\"#ArialMT-32\"/>\n",
       "       <use xlink:href=\"#ArialMT-35\" x=\"55.615234\"/>\n",
       "       <use xlink:href=\"#ArialMT-30\" x=\"111.230469\"/>\n",
       "      </g>\n",
       "     </g>\n",
       "    </g>\n",
       "   </g>\n",
       "   <g id=\"patch_3\">\n",
       "    <path d=\"M 51.283821 273.312 \n",
       "L 59.400185 273.312 \n",
       "L 59.400185 19.872 \n",
       "L 51.283821 19.872 \n",
       "z\n",
       "\" clip-path=\"url(#p2b38422735)\" style=\"fill: #4c72b0; stroke: #ffffff; stroke-linejoin: miter\"/>\n",
       "   </g>\n",
       "   <g id=\"patch_4\">\n",
       "    <path d=\"M 59.400185 273.312 \n",
       "L 67.516548 273.312 \n",
       "L 67.516548 258.829714 \n",
       "L 59.400185 258.829714 \n",
       "z\n",
       "\" clip-path=\"url(#p2b38422735)\" style=\"fill: #4c72b0; stroke: #ffffff; stroke-linejoin: miter\"/>\n",
       "   </g>\n",
       "   <g id=\"patch_5\">\n",
       "    <path d=\"M 67.516548 273.312 \n",
       "L 75.632912 273.312 \n",
       "L 75.632912 259.864163 \n",
       "L 67.516548 259.864163 \n",
       "z\n",
       "\" clip-path=\"url(#p2b38422735)\" style=\"fill: #4c72b0; stroke: #ffffff; stroke-linejoin: miter\"/>\n",
       "   </g>\n",
       "   <g id=\"patch_6\">\n",
       "    <path d=\"M 75.632912 273.312 \n",
       "L 83.749276 273.312 \n",
       "L 83.749276 255.726367 \n",
       "L 75.632912 255.726367 \n",
       "z\n",
       "\" clip-path=\"url(#p2b38422735)\" style=\"fill: #4c72b0; stroke: #ffffff; stroke-linejoin: miter\"/>\n",
       "   </g>\n",
       "   <g id=\"patch_7\">\n",
       "    <path d=\"M 83.749276 273.312 \n",
       "L 91.865639 273.312 \n",
       "L 91.865639 265.036408 \n",
       "L 83.749276 265.036408 \n",
       "z\n",
       "\" clip-path=\"url(#p2b38422735)\" style=\"fill: #4c72b0; stroke: #ffffff; stroke-linejoin: miter\"/>\n",
       "   </g>\n",
       "   <g id=\"patch_8\">\n",
       "    <path d=\"M 91.865639 273.312 \n",
       "L 99.982003 273.312 \n",
       "L 99.982003 267.105306 \n",
       "L 91.865639 267.105306 \n",
       "z\n",
       "\" clip-path=\"url(#p2b38422735)\" style=\"fill: #4c72b0; stroke: #ffffff; stroke-linejoin: miter\"/>\n",
       "   </g>\n",
       "   <g id=\"patch_9\">\n",
       "    <path d=\"M 99.982003 273.312 \n",
       "L 108.098366 273.312 \n",
       "L 108.098366 268.139755 \n",
       "L 99.982003 268.139755 \n",
       "z\n",
       "\" clip-path=\"url(#p2b38422735)\" style=\"fill: #4c72b0; stroke: #ffffff; stroke-linejoin: miter\"/>\n",
       "   </g>\n",
       "   <g id=\"patch_10\">\n",
       "    <path d=\"M 108.098366 273.312 \n",
       "L 116.21473 273.312 \n",
       "L 116.21473 267.105306 \n",
       "L 108.098366 267.105306 \n",
       "z\n",
       "\" clip-path=\"url(#p2b38422735)\" style=\"fill: #4c72b0; stroke: #ffffff; stroke-linejoin: miter\"/>\n",
       "   </g>\n",
       "   <g id=\"patch_11\">\n",
       "    <path d=\"M 116.21473 273.312 \n",
       "L 124.331094 273.312 \n",
       "L 124.331094 269.174204 \n",
       "L 116.21473 269.174204 \n",
       "z\n",
       "\" clip-path=\"url(#p2b38422735)\" style=\"fill: #4c72b0; stroke: #ffffff; stroke-linejoin: miter\"/>\n",
       "   </g>\n",
       "   <g id=\"patch_12\">\n",
       "    <path d=\"M 124.331094 273.312 \n",
       "L 132.447457 273.312 \n",
       "L 132.447457 270.208653 \n",
       "L 124.331094 270.208653 \n",
       "z\n",
       "\" clip-path=\"url(#p2b38422735)\" style=\"fill: #4c72b0; stroke: #ffffff; stroke-linejoin: miter\"/>\n",
       "   </g>\n",
       "   <g id=\"patch_13\">\n",
       "    <path d=\"M 132.447457 273.312 \n",
       "L 140.563821 273.312 \n",
       "L 140.563821 266.070857 \n",
       "L 132.447457 266.070857 \n",
       "z\n",
       "\" clip-path=\"url(#p2b38422735)\" style=\"fill: #4c72b0; stroke: #ffffff; stroke-linejoin: miter\"/>\n",
       "   </g>\n",
       "   <g id=\"patch_14\">\n",
       "    <path d=\"M 140.563821 273.312 \n",
       "L 148.680185 273.312 \n",
       "L 148.680185 267.105306 \n",
       "L 140.563821 267.105306 \n",
       "z\n",
       "\" clip-path=\"url(#p2b38422735)\" style=\"fill: #4c72b0; stroke: #ffffff; stroke-linejoin: miter\"/>\n",
       "   </g>\n",
       "   <g id=\"patch_15\">\n",
       "    <path d=\"M 148.680185 273.312 \n",
       "L 156.796548 273.312 \n",
       "L 156.796548 270.208653 \n",
       "L 148.680185 270.208653 \n",
       "z\n",
       "\" clip-path=\"url(#p2b38422735)\" style=\"fill: #4c72b0; stroke: #ffffff; stroke-linejoin: miter\"/>\n",
       "   </g>\n",
       "   <g id=\"patch_16\">\n",
       "    <path d=\"M 156.796548 273.312 \n",
       "L 164.912912 273.312 \n",
       "L 164.912912 270.208653 \n",
       "L 156.796548 270.208653 \n",
       "z\n",
       "\" clip-path=\"url(#p2b38422735)\" style=\"fill: #4c72b0; stroke: #ffffff; stroke-linejoin: miter\"/>\n",
       "   </g>\n",
       "   <g id=\"patch_17\">\n",
       "    <path d=\"M 164.912912 273.312 \n",
       "L 173.029276 273.312 \n",
       "L 173.029276 270.208653 \n",
       "L 164.912912 270.208653 \n",
       "z\n",
       "\" clip-path=\"url(#p2b38422735)\" style=\"fill: #4c72b0; stroke: #ffffff; stroke-linejoin: miter\"/>\n",
       "   </g>\n",
       "   <g id=\"patch_18\">\n",
       "    <path d=\"M 173.029276 273.312 \n",
       "L 181.145639 273.312 \n",
       "L 181.145639 269.174204 \n",
       "L 173.029276 269.174204 \n",
       "z\n",
       "\" clip-path=\"url(#p2b38422735)\" style=\"fill: #4c72b0; stroke: #ffffff; stroke-linejoin: miter\"/>\n",
       "   </g>\n",
       "   <g id=\"patch_19\">\n",
       "    <path d=\"M 181.145639 273.312 \n",
       "L 189.262003 273.312 \n",
       "L 189.262003 269.174204 \n",
       "L 181.145639 269.174204 \n",
       "z\n",
       "\" clip-path=\"url(#p2b38422735)\" style=\"fill: #4c72b0; stroke: #ffffff; stroke-linejoin: miter\"/>\n",
       "   </g>\n",
       "   <g id=\"patch_20\">\n",
       "    <path d=\"M 189.262003 273.312 \n",
       "L 197.378366 273.312 \n",
       "L 197.378366 271.243102 \n",
       "L 189.262003 271.243102 \n",
       "z\n",
       "\" clip-path=\"url(#p2b38422735)\" style=\"fill: #4c72b0; stroke: #ffffff; stroke-linejoin: miter\"/>\n",
       "   </g>\n",
       "   <g id=\"patch_21\">\n",
       "    <path d=\"M 197.378366 273.312 \n",
       "L 205.49473 273.312 \n",
       "L 205.49473 269.174204 \n",
       "L 197.378366 269.174204 \n",
       "z\n",
       "\" clip-path=\"url(#p2b38422735)\" style=\"fill: #4c72b0; stroke: #ffffff; stroke-linejoin: miter\"/>\n",
       "   </g>\n",
       "   <g id=\"patch_22\">\n",
       "    <path d=\"M 205.49473 273.312 \n",
       "L 213.611094 273.312 \n",
       "L 213.611094 273.312 \n",
       "L 205.49473 273.312 \n",
       "z\n",
       "\" clip-path=\"url(#p2b38422735)\" style=\"fill: #4c72b0; stroke: #ffffff; stroke-linejoin: miter\"/>\n",
       "   </g>\n",
       "   <g id=\"patch_23\">\n",
       "    <path d=\"M 213.611094 273.312 \n",
       "L 221.727457 273.312 \n",
       "L 221.727457 273.312 \n",
       "L 213.611094 273.312 \n",
       "z\n",
       "\" clip-path=\"url(#p2b38422735)\" style=\"fill: #4c72b0; stroke: #ffffff; stroke-linejoin: miter\"/>\n",
       "   </g>\n",
       "   <g id=\"patch_24\">\n",
       "    <path d=\"M 221.727457 273.312 \n",
       "L 229.843821 273.312 \n",
       "L 229.843821 272.277551 \n",
       "L 221.727457 272.277551 \n",
       "z\n",
       "\" clip-path=\"url(#p2b38422735)\" style=\"fill: #4c72b0; stroke: #ffffff; stroke-linejoin: miter\"/>\n",
       "   </g>\n",
       "   <g id=\"patch_25\">\n",
       "    <path d=\"M 229.843821 273.312 \n",
       "L 237.960185 273.312 \n",
       "L 237.960185 272.277551 \n",
       "L 229.843821 272.277551 \n",
       "z\n",
       "\" clip-path=\"url(#p2b38422735)\" style=\"fill: #4c72b0; stroke: #ffffff; stroke-linejoin: miter\"/>\n",
       "   </g>\n",
       "   <g id=\"patch_26\">\n",
       "    <path d=\"M 237.960185 273.312 \n",
       "L 246.076548 273.312 \n",
       "L 246.076548 272.277551 \n",
       "L 237.960185 272.277551 \n",
       "z\n",
       "\" clip-path=\"url(#p2b38422735)\" style=\"fill: #4c72b0; stroke: #ffffff; stroke-linejoin: miter\"/>\n",
       "   </g>\n",
       "   <g id=\"patch_27\">\n",
       "    <path d=\"M 246.076548 273.312 \n",
       "L 254.192912 273.312 \n",
       "L 254.192912 273.312 \n",
       "L 246.076548 273.312 \n",
       "z\n",
       "\" clip-path=\"url(#p2b38422735)\" style=\"fill: #4c72b0; stroke: #ffffff; stroke-linejoin: miter\"/>\n",
       "   </g>\n",
       "   <g id=\"patch_28\">\n",
       "    <path d=\"M 254.192912 273.312 \n",
       "L 262.309276 273.312 \n",
       "L 262.309276 273.312 \n",
       "L 254.192912 273.312 \n",
       "z\n",
       "\" clip-path=\"url(#p2b38422735)\" style=\"fill: #4c72b0; stroke: #ffffff; stroke-linejoin: miter\"/>\n",
       "   </g>\n",
       "   <g id=\"patch_29\">\n",
       "    <path d=\"M 262.309276 273.312 \n",
       "L 270.425639 273.312 \n",
       "L 270.425639 273.312 \n",
       "L 262.309276 273.312 \n",
       "z\n",
       "\" clip-path=\"url(#p2b38422735)\" style=\"fill: #4c72b0; stroke: #ffffff; stroke-linejoin: miter\"/>\n",
       "   </g>\n",
       "   <g id=\"patch_30\">\n",
       "    <path d=\"M 270.425639 273.312 \n",
       "L 278.542003 273.312 \n",
       "L 278.542003 271.243102 \n",
       "L 270.425639 271.243102 \n",
       "z\n",
       "\" clip-path=\"url(#p2b38422735)\" style=\"fill: #4c72b0; stroke: #ffffff; stroke-linejoin: miter\"/>\n",
       "   </g>\n",
       "   <g id=\"patch_31\">\n",
       "    <path d=\"M 278.542003 273.312 \n",
       "L 286.658366 273.312 \n",
       "L 286.658366 272.277551 \n",
       "L 278.542003 272.277551 \n",
       "z\n",
       "\" clip-path=\"url(#p2b38422735)\" style=\"fill: #4c72b0; stroke: #ffffff; stroke-linejoin: miter\"/>\n",
       "   </g>\n",
       "   <g id=\"patch_32\">\n",
       "    <path d=\"M 286.658366 273.312 \n",
       "L 294.77473 273.312 \n",
       "L 294.77473 272.277551 \n",
       "L 286.658366 272.277551 \n",
       "z\n",
       "\" clip-path=\"url(#p2b38422735)\" style=\"fill: #4c72b0; stroke: #ffffff; stroke-linejoin: miter\"/>\n",
       "   </g>\n",
       "   <g id=\"patch_33\">\n",
       "    <path d=\"M 294.77473 273.312 \n",
       "L 302.891094 273.312 \n",
       "L 302.891094 273.312 \n",
       "L 294.77473 273.312 \n",
       "z\n",
       "\" clip-path=\"url(#p2b38422735)\" style=\"fill: #4c72b0; stroke: #ffffff; stroke-linejoin: miter\"/>\n",
       "   </g>\n",
       "   <g id=\"patch_34\">\n",
       "    <path d=\"M 302.891094 273.312 \n",
       "L 311.007457 273.312 \n",
       "L 311.007457 273.312 \n",
       "L 302.891094 273.312 \n",
       "z\n",
       "\" clip-path=\"url(#p2b38422735)\" style=\"fill: #4c72b0; stroke: #ffffff; stroke-linejoin: miter\"/>\n",
       "   </g>\n",
       "   <g id=\"patch_35\">\n",
       "    <path d=\"M 311.007457 273.312 \n",
       "L 319.123821 273.312 \n",
       "L 319.123821 273.312 \n",
       "L 311.007457 273.312 \n",
       "z\n",
       "\" clip-path=\"url(#p2b38422735)\" style=\"fill: #4c72b0; stroke: #ffffff; stroke-linejoin: miter\"/>\n",
       "   </g>\n",
       "   <g id=\"patch_36\">\n",
       "    <path d=\"M 319.123821 273.312 \n",
       "L 327.240185 273.312 \n",
       "L 327.240185 273.312 \n",
       "L 319.123821 273.312 \n",
       "z\n",
       "\" clip-path=\"url(#p2b38422735)\" style=\"fill: #4c72b0; stroke: #ffffff; stroke-linejoin: miter\"/>\n",
       "   </g>\n",
       "   <g id=\"patch_37\">\n",
       "    <path d=\"M 327.240185 273.312 \n",
       "L 335.356548 273.312 \n",
       "L 335.356548 273.312 \n",
       "L 327.240185 273.312 \n",
       "z\n",
       "\" clip-path=\"url(#p2b38422735)\" style=\"fill: #4c72b0; stroke: #ffffff; stroke-linejoin: miter\"/>\n",
       "   </g>\n",
       "   <g id=\"patch_38\">\n",
       "    <path d=\"M 335.356548 273.312 \n",
       "L 343.472912 273.312 \n",
       "L 343.472912 273.312 \n",
       "L 335.356548 273.312 \n",
       "z\n",
       "\" clip-path=\"url(#p2b38422735)\" style=\"fill: #4c72b0; stroke: #ffffff; stroke-linejoin: miter\"/>\n",
       "   </g>\n",
       "   <g id=\"patch_39\">\n",
       "    <path d=\"M 343.472912 273.312 \n",
       "L 351.589276 273.312 \n",
       "L 351.589276 273.312 \n",
       "L 343.472912 273.312 \n",
       "z\n",
       "\" clip-path=\"url(#p2b38422735)\" style=\"fill: #4c72b0; stroke: #ffffff; stroke-linejoin: miter\"/>\n",
       "   </g>\n",
       "   <g id=\"patch_40\">\n",
       "    <path d=\"M 351.589276 273.312 \n",
       "L 359.705639 273.312 \n",
       "L 359.705639 273.312 \n",
       "L 351.589276 273.312 \n",
       "z\n",
       "\" clip-path=\"url(#p2b38422735)\" style=\"fill: #4c72b0; stroke: #ffffff; stroke-linejoin: miter\"/>\n",
       "   </g>\n",
       "   <g id=\"patch_41\">\n",
       "    <path d=\"M 359.705639 273.312 \n",
       "L 367.822003 273.312 \n",
       "L 367.822003 273.312 \n",
       "L 359.705639 273.312 \n",
       "z\n",
       "\" clip-path=\"url(#p2b38422735)\" style=\"fill: #4c72b0; stroke: #ffffff; stroke-linejoin: miter\"/>\n",
       "   </g>\n",
       "   <g id=\"patch_42\">\n",
       "    <path d=\"M 367.822003 273.312 \n",
       "L 375.938366 273.312 \n",
       "L 375.938366 272.277551 \n",
       "L 367.822003 272.277551 \n",
       "z\n",
       "\" clip-path=\"url(#p2b38422735)\" style=\"fill: #4c72b0; stroke: #ffffff; stroke-linejoin: miter\"/>\n",
       "   </g>\n",
       "   <g id=\"patch_43\">\n",
       "    <path d=\"M 35.051094 273.312 \n",
       "L 35.051094 7.2 \n",
       "\" style=\"fill: none; stroke: #ffffff; stroke-width: 1.25; stroke-linejoin: miter; stroke-linecap: square\"/>\n",
       "   </g>\n",
       "   <g id=\"patch_44\">\n",
       "    <path d=\"M 392.171094 273.312 \n",
       "L 392.171094 7.2 \n",
       "\" style=\"fill: none; stroke: #ffffff; stroke-width: 1.25; stroke-linejoin: miter; stroke-linecap: square\"/>\n",
       "   </g>\n",
       "   <g id=\"patch_45\">\n",
       "    <path d=\"M 35.051094 273.312 \n",
       "L 392.171094 273.312 \n",
       "\" style=\"fill: none; stroke: #ffffff; stroke-width: 1.25; stroke-linejoin: miter; stroke-linecap: square\"/>\n",
       "   </g>\n",
       "   <g id=\"patch_46\">\n",
       "    <path d=\"M 35.051094 7.2 \n",
       "L 392.171094 7.2 \n",
       "\" style=\"fill: none; stroke: #ffffff; stroke-width: 1.25; stroke-linejoin: miter; stroke-linecap: square\"/>\n",
       "   </g>\n",
       "  </g>\n",
       " </g>\n",
       " <defs>\n",
       "  <clipPath id=\"p2b38422735\">\n",
       "   <rect x=\"35.051094\" y=\"7.2\" width=\"357.12\" height=\"266.112\"/>\n",
       "  </clipPath>\n",
       " </defs>\n",
       "</svg>\n"
      ],
      "text/plain": [
       "<Figure size 640x480 with 1 Axes>"
      ]
     },
     "metadata": {},
     "output_type": "display_data"
    }
   ],
   "source": [
    "# 강수량 히스토그램 시각화\n",
    "plt.hist(prcp, 40);"
   ]
  },
  {
   "cell_type": "code",
   "execution_count": 41,
   "metadata": {},
   "outputs": [
    {
     "name": "stdout",
     "output_type": "stream",
     "text": [
      "[[5 0 3 3]\n",
      " [7 9 3 5]\n",
      " [2 4 7 6]] \n",
      "\n",
      "[[ True  True  True  True]\n",
      " [False False  True  True]\n",
      " [ True  True False False]]\n"
     ]
    }
   ],
   "source": [
    "# 다차원 배열의 비교 연산\n",
    "np.random.seed(0)\n",
    "x = np.random.randint(10, size=(3, 4))\n",
    "print(x, '\\n')\n",
    "\n",
    "print(x < 6)"
   ]
  },
  {
   "cell_type": "code",
   "execution_count": 42,
   "metadata": {},
   "outputs": [
    {
     "name": "stdout",
     "output_type": "stream",
     "text": [
      "8\n",
      "8\n",
      "True\n",
      "False\n"
     ]
    }
   ],
   "source": [
    "# Boolean 배열 연산\n",
    "print(np.count_nonzero(x < 6))  # [+] 6보다 작은가? np.count_nonzero()\n",
    "print(np.sum(x < 6))            # [+] 6보다 작은가? np.sum()\n",
    "print(np.any(x > 8))            # [+] 8보다 큰 값이 있는가?\n",
    "print(np.all(x > 1))            # [+] 모든 값이 1보다 큰가? "
   ]
  },
  {
   "cell_type": "code",
   "execution_count": 43,
   "metadata": {},
   "outputs": [
    {
     "name": "stdout",
     "output_type": "stream",
     "text": [
      "[[5 0 3 3]\n",
      " [7 9 3 5]\n",
      " [2 4 7 6]] \n",
      "\n",
      "[[False  True  True  True]\n",
      " [False False  True False]\n",
      " [ True  True False False]] \n",
      "\n",
      "[0 3 3 3 2 4]\n"
     ]
    }
   ],
   "source": [
    "# Boolean 배열을 이용한 데이터 선택\n",
    "print(x, '\\n')\n",
    "print(x < 5, '\\n')\n",
    "\n",
    "print(x[x < 5])"
   ]
  },
  {
   "cell_type": "markdown",
   "metadata": {},
   "source": [
    "### <strong> 팬시 인덱싱(fancy indexing) </strong>"
   ]
  },
  {
   "cell_type": "code",
   "execution_count": 3,
   "metadata": {},
   "outputs": [
    {
     "data": {
      "text/plain": [
       "array([37, 12, 72,  9, 75,  5, 79, 64, 16,  1])"
      ]
     },
     "execution_count": 3,
     "metadata": {},
     "output_type": "execute_result"
    }
   ],
   "source": [
    "# 난수 배열 생성\n",
    "np.random.seed(1)\n",
    "x = np.random.randint(100, size=10)\n",
    "x"
   ]
  },
  {
   "cell_type": "code",
   "execution_count": 4,
   "metadata": {},
   "outputs": [
    {
     "name": "stdout",
     "output_type": "stream",
     "text": [
      "[72, 75, 79]\n"
     ]
    }
   ],
   "source": [
    "# 기본 문법: 2, 4, 6번 원소 선택하기\n",
    "a = x[2]\n",
    "b = x[4]\n",
    "c = x[6]\n",
    "\n",
    "print([a, b, c])"
   ]
  },
  {
   "cell_type": "code",
   "execution_count": 6,
   "metadata": {},
   "outputs": [
    {
     "data": {
      "text/plain": [
       "array([72, 75, 79])"
      ]
     },
     "execution_count": 6,
     "metadata": {},
     "output_type": "execute_result"
    }
   ],
   "source": [
    "# 팬시 인덱싱: 2, 4, 6번 원소 선택하기\n",
    "ind = [2, 4, 6]   # [+] 인덱스 배열 생성\n",
    "x[ind]            # [+] 인덱스 배열을 이용한 값 선택"
   ]
  },
  {
   "cell_type": "code",
   "execution_count": 7,
   "metadata": {},
   "outputs": [
    {
     "name": "stdout",
     "output_type": "stream",
     "text": [
      "[[8 8 6 2 8]\n",
      " [7 2 1 5 4]\n",
      " [4 5 7 3 6]] \n",
      "\n",
      "[6 2 6]\n"
     ]
    }
   ],
   "source": [
    "# 팬시 인덱싱: 다차원 배열\n",
    "np.random.seed(2)\n",
    "x = np.random.randint(10, size=(3, 5))\n",
    "print(x, '\\n')\n",
    "\n",
    "row = [0, 1, 2]\n",
    "col = [2, 1, 4]\n",
    "\n",
    "print(x[row, col])"
   ]
  },
  {
   "cell_type": "code",
   "execution_count": 8,
   "metadata": {},
   "outputs": [
    {
     "data": {
      "text/plain": [
       "array([[6, 8, 8],\n",
       "       [1, 2, 4],\n",
       "       [7, 5, 6]])"
      ]
     },
     "execution_count": 8,
     "metadata": {},
     "output_type": "execute_result"
    }
   ],
   "source": [
    "# 팬시 인덱싱: 다차원 배열 + 브로드캐스팅\n",
    "row = np.array([0, 1, 2])\n",
    "col = np.array([2, 1, 4])\n",
    "\n",
    "x[row[:, np.newaxis], col]"
   ]
  },
  {
   "cell_type": "code",
   "execution_count": 10,
   "metadata": {},
   "outputs": [
    {
     "name": "stdout",
     "output_type": "stream",
     "text": [
      "[[ 1  2  3  4]\n",
      " [ 5  6  7  8]\n",
      " [ 9 10 11 12]] \n",
      "\n",
      "[11  9 10] \n",
      "\n",
      "[[ 7  5  6]\n",
      " [11  9 10]]\n"
     ]
    }
   ],
   "source": [
    "# 결합 인덱싱\n",
    "x = np.arange(1, 13).reshape(3, 4)\n",
    "print(x, '\\n')\n",
    "\n",
    "ind = [2, 0, 1]\n",
    "\n",
    "print(x[2, ind], '\\n')\n",
    "print(x[1:, [2, 0, 1]])"
   ]
  },
  {
   "cell_type": "markdown",
   "metadata": {},
   "source": [
    "#### **예제: 팬시 인덱싱을 이용한 임의의 점 집합 선택하기**\n",
    "+ ```np.random.seed()```: 난수 생성을 위한 초기상태(seed)를 관리 (전역적 상태)\n",
    "+ ```np.random.RandomState()```: seed를 별도 객체에서 관리 (지역적 상태) ${\\rightarrow}$ 독립적인 난수 생성기를 여러 개 생성 가능"
   ]
  },
  {
   "cell_type": "code",
   "execution_count": 12,
   "metadata": {},
   "outputs": [
    {
     "name": "stdout",
     "output_type": "stream",
     "text": [
      "[[-1.26659039e+00 -3.71998007e+00]\n",
      " [ 8.98574387e-01  1.00797760e+00]\n",
      " [ 8.12283322e-02 -2.29506499e+00]\n",
      " [-1.32069461e+00 -4.01236325e+00]\n",
      " [-1.99323780e-01 -7.51126722e-01]\n",
      " [-5.62429879e-01 -3.58770608e+00]\n",
      " [ 4.44845894e-01  6.58255553e-01]\n",
      " [-6.26556217e-01 -2.70315425e+00]\n",
      " [ 4.95244764e-01  2.45439522e-01]\n",
      " [-2.62034143e-01 -1.77174030e-03]]\n",
      "(100, 2)\n"
     ]
    }
   ],
   "source": [
    "mean = [0, 0]     # 평균\n",
    "cov = [[1, 2],    # 공분산\n",
    "      [2, 5]]\n",
    "\n",
    "rand = np.random.RandomState(1)                 # RandomState: 시드를 별도 객체에서 관리\n",
    "x = rand.multivariate_normal(mean, cov, 100)    # 정규분포 다변량 데이터 생성\n",
    "print(x[:10])\n",
    "print(x.shape)"
   ]
  },
  {
   "cell_type": "code",
   "execution_count": 16,
   "metadata": {},
   "outputs": [
    {
     "data": {
      "image/png": "[encoded data removed]",
      "text/plain": [
       "<Figure size 640x480 with 1 Axes>"
      ]
     },
     "metadata": {},
     "output_type": "display_data"
    }
   ],
   "source": [
    "# 산포도 출력: scatter(x, y)\n",
    "plt.scatter(x[:, 0], x[:, 1]);"
   ]
  },
  {
   "cell_type": "code",
   "execution_count": 17,
   "metadata": {},
   "outputs": [
    {
     "name": "stdout",
     "output_type": "stream",
     "text": [
      "[79 94 93 14 87 30 77  2 25  0 35 74 28 24  3 78 98 29  7 13]\n"
     ]
    }
   ],
   "source": [
    "# 20개의 점을 무작위 추출(random sampling) -> 인덱스 값을 리턴\n",
    "ind = np.random.choice(x.shape[0], 20, replace=False)\n",
    "print(ind)"
   ]
  },
  {
   "cell_type": "code",
   "execution_count": 18,
   "metadata": {},
   "outputs": [
    {
     "name": "stdout",
     "output_type": "stream",
     "text": [
      "[[ 0.41329378 -0.21668487]\n",
      " [-0.2313217  -0.63759661]\n",
      " [-0.61204956 -1.21704639]\n",
      " [ 0.04453806  0.68157702]\n",
      " [ 0.04626182 -0.13327485]\n",
      " [ 0.21752093  1.8812367 ]\n",
      " [-0.36943983 -1.00031388]\n",
      " [ 0.08122833 -2.29506499]\n",
      " [-0.14252103 -0.7253487 ]\n",
      " [-1.26659039 -3.71998007]\n",
      " [ 1.52723792  3.14104857]\n",
      " [-0.47599808 -0.4103727 ]\n",
      " [-1.13143694 -1.72371279]\n",
      " [-0.3472058  -0.17017312]\n",
      " [-1.32069461 -4.01236325]\n",
      " [ 0.17161857  0.28546056]\n",
      " [-0.71730549 -1.27681847]\n",
      " [-0.60257714 -0.49668002]\n",
      " [-0.62655622 -2.70315425]\n",
      " [ 0.47163922  0.12576827]]\n",
      "(20, 2)\n"
     ]
    }
   ],
   "source": [
    "# 선택된 점 집합 출력\n",
    "selected = x[ind]      # 팬시 인덱싱\n",
    "print(selected)\n",
    "print(selected.shape)"
   ]
  },
  {
   "cell_type": "code",
   "execution_count": 20,
   "metadata": {},
   "outputs": [
    {
     "data": {
      "image/png": "[encoded data removed]",
      "text/plain": [
       "<Figure size 640x480 with 1 Axes>"
      ]
     },
     "metadata": {},
     "output_type": "display_data"
    }
   ],
   "source": [
    "# 선택된 점 집합 시각화\n",
    "plt.scatter(x[:, 0], x[:, 1], alpha=0.3)      # 원본 점 집합\n",
    "plt.scatter(selected[:, 0], selected[:, 1],   # 선택된 점 집합\n",
    "            facecolor='red', s=50);"
   ]
  }
 ],
 "metadata": {
  "kernelspec": {
   "display_name": "base",
   "language": "python",
   "name": "python3"
  },
  "language_info": {
   "codemirror_mode": {
    "name": "ipython",
    "version": 3
   },
   "file_extension": ".py",
   "mimetype": "text/x-python",
   "name": "python",
   "nbconvert_exporter": "python",
   "pygments_lexer": "ipython3",
   "version": "3.11.4"
  }
 },
 "nbformat": 4,
 "nbformat_minor": 4
}
