{
 "cells": [
  {
   "cell_type": "code",
   "execution_count": 14,
   "id": "6e4490f9-0989-4f4e-9180-234ca6540297",
   "metadata": {},
   "outputs": [
    {
     "name": "stdout",
     "output_type": "stream",
     "text": [
      "Customer One Items:\n",
      "Lovely Loveseat. Tufted polyester blend on wood. 32 inches high x 40 inches wide x 30 inches deep. Red or white.Luxurious Lamp. Glass and iron. 36 inches tall. Brown with cream shade.\n",
      "Customer One Total:\n",
      "333.09119999999996\n"
     ]
    }
   ],
   "source": [
    "# [1] Receipts for Lovely Loveseats\n",
    "\n",
    "# Tasks\n",
    "lovely_loveseat_description = \"Lovely Loveseat. Tufted polyester blend on wood. 32 inches high x 40 inches wide x 30 inches deep. Red or white.\"\n",
    "lovely_loveseat_price = 254.00\n",
    "\n",
    "stylish_settee_description = \"Stylish Settee. Faux leather on birch. 29.50 inches high x 54.75 inches wide x 28 inches deep. Black.\"\n",
    "stylish_settee_price = 180.50\n",
    "\n",
    "luxurious_lamp_description = \"Luxurious Lamp. Glass and iron. 36 inches tall. Brown with cream shade.\"\n",
    "luxurious_lamp_price = 52.15\n",
    "\n",
    "sales_tax = 0.088\n",
    "\n",
    "# Our First Customer\n",
    "customer_one_total = 0\n",
    "customer_one_itemization = \"\"\n",
    "\n",
    "customer_one_total += lovely_loveseat_price\n",
    "customer_one_itemization += lovely_loveseat_description\n",
    "\n",
    "customer_one_total += luxurious_lamp_price\n",
    "customer_one_itemization += luxurious_lamp_description\n",
    "\n",
    "customer_one_tax = customer_one_total * sales_tax\n",
    "\n",
    "customer_one_total += customer_one_tax\n",
    "\n",
    "# Output\n",
    "print(\"Customer One Items:\")\n",
    "print(customer_one_itemization)\n",
    "print(\"Customer One Total:\")\n",
    "print(customer_one_total)"
   ]
  },
  {
   "cell_type": "code",
   "execution_count": 33,
   "id": "a3c94b12-eeb7-4dc2-b572-1d988bcfbbe2",
   "metadata": {},
   "outputs": [
    {
     "name": "stdout",
     "output_type": "stream",
     "text": [
      "[['physics', 98], ['calculus', 97], ['poetry', 85], ['history', 88]]\n",
      "[['physics', 98], ['calculus', 97], ['poetry', 85], ['history', 88], ['computer science', 100], ['visual arts', 93]]\n",
      "[['physics', 98], ['calculus', 97], ['poetry', 'Pass'], ['history', 88], ['computer science', 100], ['visual arts', 98]]\n",
      "[['politics', 80], ['latin', 96], ['dance', 97], ['architecture', 65], ['physics', 98], ['calculus', 97], ['poetry', 'Pass'], ['history', 88], ['computer science', 100], ['visual arts', 98]]\n"
     ]
    }
   ],
   "source": [
    "# [2] Gradebook\n",
    "\n",
    "# Create Some Lists\n",
    "subjects = [\"physics\", \"calculus\", \"poetry\", \"history\"]\n",
    "grades = [98, 97, 85, 88]\n",
    "\n",
    "gradebook = [[s, g] for s, g in zip(subjects, grades)]\n",
    "print(gradebook)\n",
    "\n",
    "gradebook.append([\"computer science\", 100])\n",
    "gradebook.append([\"visual arts\", 93])\n",
    "print(gradebook)\n",
    "\n",
    "# Modify The Gradebook\n",
    "gradebook[5][1] += 5\n",
    "\n",
    "gradebook[2].remove(85)\n",
    "gradebook[2].append(\"Pass\")\n",
    "print(gradebook)\n",
    "\n",
    "# One Big Gradebook\n",
    "last_semester_gradebook = [[\"politics\", 80], [\"latin\", 96], [\"dance\", 97], [\"architecture\", 65]]\n",
    "\n",
    "full_gradebook = last_semester_gradebook + gradebook\n",
    "print(full_gradebook)"
   ]
  },
  {
   "cell_type": "code",
   "execution_count": 19,
   "id": "9550ce05-44c2-4a7b-ad52-eb8f5e95f532",
   "metadata": {},
   "outputs": [
    {
     "name": "stdout",
     "output_type": "stream",
     "text": [
      "Average price is 31.875\n",
      "[25 20 35 15 15 30 45 30]\n",
      "1085\n",
      "Average daily revenue is 155.0\n",
      "['bouffant', 'pixie', 'crew', 'bowl']\n"
     ]
    }
   ],
   "source": [
    "# [3] Carly's Clippers\n",
    "\n",
    "import numpy as np\n",
    "\n",
    "hairstyles = [\"bouffant\", \"pixie\", \"dreadlocks\", \"crew\", \"bowl\", \"bob\", \"mohawk\", \"flattop\"]\n",
    "prices = np.array([30, 25, 40, 20, 20, 35, 50, 35])\n",
    "last_week = [2, 3, 5, 8, 4, 4, 6, 2]\n",
    "\n",
    "# Prices and Cuts\n",
    "total_price = 0\n",
    "for price in prices:\n",
    "    total_price += price\n",
    "\n",
    "average_price = total_price / len(prices)\n",
    "print(f\"Average price is {average_price}\")\n",
    "\n",
    "new_prices = prices-5\n",
    "print(new_prices)\n",
    "\n",
    "# Revenue\n",
    "total_revenue = 0\n",
    "for i in range(0, len(hairstyles)):\n",
    "    total_revenue += prices[i]*last_week[i]\n",
    "    \n",
    "print(total_revenue)\n",
    "\n",
    "average_daily_revenue = total_revenue/7\n",
    "print(f\"Average daily revenue is {average_daily_revenue}\")\n",
    "\n",
    "cuts_under_30 = [hairstyles[i] for i in range(len(new_prices)) if new_prices[i]<30]\n",
    "print(cuts_under_30)"
   ]
  },
  {
   "cell_type": "code",
   "execution_count": 22,
   "id": "a264496e-de49-4fa7-b4c2-19634bbeb2f7",
   "metadata": {},
   "outputs": [
    {
     "name": "stdin",
     "output_type": "stream",
     "text": [
      "성씨를 입력하세요:  한\n",
      "태어난 달을 입력하세요:  4\n",
      "태어난 날을 입력하세요:  15\n"
     ]
    },
    {
     "name": "stdout",
     "output_type": "stream",
     "text": [
      "\n",
      "당신의 조선시대 이름은 한돌방 입니다.\n"
     ]
    }
   ],
   "source": [
    "# [4] 나의 조선시대 이름 찾기\n",
    "\n",
    "def get_my_chosun_name(family_name, month, day):\n",
    "    month_list = ['쌍', '쇠', '복', '돌', '팽', '육', '쌍', '개', '칠', '갑', '삼', '방']\n",
    "    day_list = ['봉', '구', '욕', '포', '똥', '삼', '식', '석', '놈', '님', \n",
    "                '년', '돌', '단', '득', '방', '질', '장', '걸', '래', '룡', \n",
    "                '동', '순', '자', '박', '창', '언', '것', '포', '만', '단', '국']\n",
    "\n",
    "    return family_name + month_list[month-1] + day_list[day-1]\n",
    "\n",
    "\n",
    "name = input('성씨를 입력하세요: ')\n",
    "m = int(input('태어난 달을 입력하세요: '))\n",
    "d = int(input('태어난 날을 입력하세요: '))\n",
    "\n",
    "if (m>0 and m<13) and (d>0 and d<32):\n",
    "    print(f\"\\n당신의 조선시대 이름은 {get_my_chosun_name(name, m, d)} 입니다.\")\n",
    "else:\n",
    "    print(\"\\n(error) 생일을 다시 입력하세요.\")"
   ]
  }
 ],
 "metadata": {
  "kernelspec": {
   "display_name": "Python 3 (ipykernel)",
   "language": "python",
   "name": "python3"
  },
  "language_info": {
   "codemirror_mode": {
    "name": "ipython",
    "version": 3
   },
   "file_extension": ".py",
   "mimetype": "text/x-python",
   "name": "python",
   "nbconvert_exporter": "python",
   "pygments_lexer": "ipython3",
   "version": "3.11.7"
  }
 },
 "nbformat": 4,
 "nbformat_minor": 5
}
