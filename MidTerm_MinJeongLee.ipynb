{
 "cells": [
  {
   "cell_type": "markdown",
   "id": "5394a393-82d6-47ef-b57e-bfeaac7a199f",
   "metadata": {},
   "source": [
    "#### 01. 라이브러리"
   ]
  },
  {
   "cell_type": "code",
   "execution_count": 55,
   "id": "b521e83d-e8a1-4b4b-9a59-3f3ea082cc6e",
   "metadata": {},
   "outputs": [],
   "source": [
    "import numpy as np\n",
    "import matplotlib.pyplot as plt\n",
    "from mpl_toolkits.axes_grid1 import make_axes_locatable"
   ]
  },
  {
   "cell_type": "code",
   "execution_count": 56,
   "id": "599a6a4f-35c6-4f82-8acf-bcbc7e802b5c",
   "metadata": {},
   "outputs": [
    {
     "data": {
      "text/plain": [
       "<contextlib.ExitStack at 0x21a8251a710>"
      ]
     },
     "execution_count": 56,
     "metadata": {},
     "output_type": "execute_result"
    }
   ],
   "source": [
    "%matplotlib qt5\n",
    "%config InlineBackend.figure_format = 'svg'\n",
    "\n",
    "plt.rcParams['figure.figsize'] = [12, 5]\n",
    "plt.rcParams['font.size'] = 13\n",
    "plt.ion()"
   ]
  },
  {
   "cell_type": "markdown",
   "id": "062d1119-f9ff-427a-82e0-fa063d0ef63e",
   "metadata": {},
   "source": [
    "#### 02. 간단한 복소수 함수 살펴보기"
   ]
  },
  {
   "cell_type": "code",
   "execution_count": 57,
   "id": "d12ba3be-1249-43b1-88f9-a84efc51b421",
   "metadata": {},
   "outputs": [
    {
     "data": {
      "text/plain": [
       "-1"
      ]
     },
     "execution_count": 57,
     "metadata": {},
     "output_type": "execute_result"
    }
   ],
   "source": [
    "def f(z):\n",
    "    return np.power(z, 2)-1\n",
    "\n",
    "f(0)"
   ]
  },
  {
   "cell_type": "code",
   "execution_count": 58,
   "id": "674984a3-19e9-43a2-b628-1802e0bf1d4e",
   "metadata": {},
   "outputs": [
    {
     "data": {
      "text/plain": [
       "array([15.  +0.j , -0.04-0.4j,  1.56+0.j ])"
      ]
     },
     "execution_count": 58,
     "metadata": {},
     "output_type": "execute_result"
    }
   ],
   "source": [
    "z = [4, 1-0.2j, 1.6]\n",
    "f(z)"
   ]
  },
  {
   "cell_type": "markdown",
   "id": "74795897-0597-40b5-85ee-fd169ee2a310",
   "metadata": {},
   "source": [
    "#### 03. 더 많은 복소수 집합에 대한 함수의 동작 확인하기"
   ]
  },
  {
   "cell_type": "code",
   "execution_count": 59,
   "id": "9648207f-1d80-4679-8a5b-d1a55efe8bbc",
   "metadata": {},
   "outputs": [],
   "source": [
    "x, y = np.meshgrid(np.linspace(-10, 10, 20), np.linspace(-10, 10, 20))\n",
    "mesh = np.multiply(y, 1j)+x\n",
    "\n",
    "output = np.abs(f(mesh))\n",
    "\n",
    "\n",
    "fig = plt.figure()\n",
    "ax = plt.axes(projection='3d')\n",
    "\n",
    "ax.scatter(x, y, output, alpha=0.2)\n",
    "\n",
    "ax.set_xlabel('Real axis')\n",
    "ax.set_ylabel('Imaginary axis')\n",
    "ax.set_zlabel('Absolute value')\n",
    "ax.set_title('One Iteration: $f(z) = z^2 - 1$');"
   ]
  },
  {
   "cell_type": "code",
   "execution_count": 60,
   "id": "14e7624f-08d8-4d8a-bb3d-e0aba4245e4e",
   "metadata": {},
   "outputs": [],
   "source": [
    "output = np.abs(f(f(mesh)))\n",
    "\n",
    "ax = plt.axes(projection='3d')\n",
    "\n",
    "ax.scatter(x, y, output, alpha=0.2)\n",
    "\n",
    "ax.set_xlabel('Real axis')\n",
    "ax.set_ylabel('Imaginary axis')\n",
    "ax.set_zlabel('Absolute value')\n",
    "ax.set_title('Two Iteration: $f(z) = z^2 - 1$');"
   ]
  },
  {
   "cell_type": "markdown",
   "id": "c4733e74-252e-41a4-9e7c-597ee7f75603",
   "metadata": {},
   "source": [
    "#### 04. 유사한 복소수 집합에 대해 함수 반복 적용하기"
   ]
  },
  {
   "cell_type": "code",
   "execution_count": 61,
   "id": "0bacb4f3-bfa1-49ef-94f8-bb00d9a338d1",
   "metadata": {},
   "outputs": [],
   "source": [
    "selected_values = np.array([0.4 + 0.4j, 0.41 + 0.4j, 0.4 + 0.41j])\n",
    "num_iter = 9\n",
    "\n",
    "outputs = np.zeros((num_iter+1, selected_values.shape[0]), dtype=complex)\n",
    "outputs[0] = selected_values\n",
    "\n",
    "for i in range(num_iter):\n",
    "    outputs[i+1] = f(outputs[i])\n",
    "\n",
    "fig, axes = plt.subplots(1, selected_values.shape[0], figsize=(16, 6))\n",
    "axes[1].set_xlabel('Real axis')\n",
    "axes[0].set_ylabel('Imaginary axis')\n",
    "\n",
    "for ax, data in zip(axes, outputs.T):\n",
    "    cycle = ax.scatter(data.real, data.imag, c=range(data.shape[0]), alpha=0.6)\n",
    "    ax.set_title(f'Mapping of iterations on {data[0]}')\n",
    "\n",
    "fig.colorbar(cycle, ax=axes, location='bottom', label='Iteration');"
   ]
  },
  {
   "cell_type": "markdown",
   "id": "d76e7f07-7dfa-47a8-8985-1358786e6de8",
   "metadata": {},
   "source": [
    "#### 05. 발산 전까지 함수 반복 적용 및 시각화"
   ]
  },
  {
   "cell_type": "code",
   "execution_count": 62,
   "id": "69d5e969-c946-45bb-b738-c03fdf94976a",
   "metadata": {},
   "outputs": [],
   "source": [
    "def divergence_rate(mesh, num_iter=10, radius=2):\n",
    "    z = mesh.copy()\n",
    "    diverge_len = np.zeros(mesh.shape)\n",
    "\n",
    "    for i in range(num_iter):\n",
    "        # [+] 1. Boolean 배열  마스크 생성\n",
    "        conv_mask = np.abs(z)<radius\n",
    "\n",
    "        # [+] 2. 해당 값들에 대한 diverge_len 값 증가\n",
    "        diverge_len += conv_mask\n",
    "\n",
    "        # [+] 3. 해당 값들에 대해 함수 적용\n",
    "        z[conv_mask] = f(z[conv_mask])\n",
    "\n",
    "    return diverge_len"
   ]
  },
  {
   "cell_type": "code",
   "execution_count": 64,
   "id": "45ad599c-67e6-4a3e-b2b8-669cf4ea4988",
   "metadata": {},
   "outputs": [],
   "source": [
    "x, y = np.meshgrid(np.linspace(-2, 2, 400), np.linspace(-2, 2, 400))\n",
    "mesh = np.multiply(y, 1j)+x\n",
    "\n",
    "output = divergence_rate(mesh)\n",
    "\n",
    "fig = plt.figure(figsize=(5, 5))\n",
    "ax = plt.axes()\n",
    "\n",
    "ax.set_title('$f(z) = z^2-1$')\n",
    "ax.set_xlabel('Real axis')\n",
    "ax.set_ylabel('Imaginary axis')\n",
    "\n",
    "im = ax.imshow(output, extent=[-2, 2, -2, 2])\n",
    "divider = make_axes_locatable(ax)\n",
    "cax = divider.append_axes('right', size='5%', pad=0.1)\n",
    "plt.colorbar(im, cax=cax, label='Number of iterations');"
   ]
  }
 ],
 "metadata": {
  "kernelspec": {
   "display_name": "Python 3 (ipykernel)",
   "language": "python",
   "name": "python3"
  },
  "language_info": {
   "codemirror_mode": {
    "name": "ipython",
    "version": 3
   },
   "file_extension": ".py",
   "mimetype": "text/x-python",
   "name": "python",
   "nbconvert_exporter": "python",
   "pygments_lexer": "ipython3",
   "version": "3.11.7"
  }
 },
 "nbformat": 4,
 "nbformat_minor": 5
}
